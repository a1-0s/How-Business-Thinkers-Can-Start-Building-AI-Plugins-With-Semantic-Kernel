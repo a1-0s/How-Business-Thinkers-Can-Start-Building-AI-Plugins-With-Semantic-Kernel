{
  "nbformat": 4,
  "nbformat_minor": 0,
  "metadata": {
    "colab": {
      "provenance": []
    },
    "kernelspec": {
      "name": "python3",
      "display_name": "Python 3"
    },
    "language_info": {
      "name": "python"
    }
  },
  "cells": [
    {
      "cell_type": "markdown",
      "source": [
        "# 🧑‍🍳 L3 - Organizing the tools you make for later reuse"
      ],
      "metadata": {
        "id": "4H6ukF5utOSd"
      }
    },
    {
      "cell_type": "code",
      "source": [
        "import semantic_kernel as sk\n",
        "from semantic_kernel.connectors.ai.open_ai import AzureChatCompletion, OpenAIChatCompletion\n",
        "from IPython.display import display, Markdown\n",
        "\n",
        "kernel = sk.Kernel()\n",
        "\n",
        "useAzureOpenAI = False\n",
        "\n",
        "if useAzureOpenAI:\n",
        "    deployment, api_key, endpoint = sk.azure_openai_settings_from_dot_env()\n",
        "    kernel.add_text_completion_service(\"azureopenai\", AzureChatCompletion(deployment, endpoint, api_key))\n",
        "else:\n",
        "    api_key, org_id = sk.openai_settings_from_dot_env()\n",
        "    kernel.add_text_completion_service(\"openai\", OpenAIChatCompletion(\"gpt-3.5-turbo-0301\", api_key, org_id))\n",
        "\n",
        "print(\"A kernel is now ready.\")"
      ],
      "metadata": {
        "id": "59urfMnmtP7S"
      },
      "execution_count": null,
      "outputs": []
    },
    {
      "cell_type": "markdown",
      "source": [
        "```directory\n",
        "plugins-sk/\n",
        "│\n",
        "└─── BusinessThinking/\n",
        "     |\n",
        "     └─── BasicStrategies/\n",
        "     |    └─── config.json\n",
        "     |    └─── skprompt.txt\n",
        "     |\n",
        "     └─── SeekCostEfficiency/\n",
        "     |    └─── config.json\n",
        "     |    └─── skprompt.txt\n",
        "     |\n",
        "     └─── SeekTimeEfficiency/\n",
        "          └─── config.json\n",
        "          └─── skprompt.txt\n",
        "```"
      ],
      "metadata": {
        "id": "OpFcDsbFtcWU"
      }
    },
    {
      "cell_type": "code",
      "source": [
        "strengths = [ \"Unique garlic pizza recipe that wins top awards\",\"Owner trained in Sicily at some of the best pizzerias\",\"Strong local reputation\",\"Prime location on university campus\" ]\n",
        "weaknesses = [ \"High staff turnover\",\"Floods in the area damaged the seating areas that are in need of repair\",\"Absence of popular calzones from menu\",\"Negative reviews from younger demographic for lack of hip ingredients\" ]\n",
        "\n",
        "pluginsDirectory = \"./plugins-sk\"\n",
        "\n",
        "pluginBT = kernel.import_semantic_skill_from_directory(pluginsDirectory, \"BusinessThinking\");\n",
        "\n",
        "my_context = kernel.create_new_context()\n",
        "my_context['input'] = 'makes pizzas'\n",
        "my_context['strengths'] = \", \".join(strengths)\n",
        "my_context['weaknesses'] = \", \".join(weaknesses)\n",
        "\n",
        "costefficiency_result = await kernel.run_async(pluginBT[\"SeekCostEfficiency\"], input_context=my_context)\n",
        "costefficiency_str = str(\"### ✨ Suggestions for how to gain cost efficiencies\\n\" + str(costefficiency_result))\n",
        "display(Markdown(costefficiency_str))"
      ],
      "metadata": {
        "id": "XONABANPtVkB"
      },
      "execution_count": null,
      "outputs": []
    },
    {
      "cell_type": "code",
      "source": [
        "opportunities = [ \"Untapped catering potential\",\"Growing local tech startup community\",\"Unexplored online presence and order capabilities\",\"Upcoming annual food fair\" ]\n",
        "threats = [ \"Competition from cheaper pizza businesses nearby\",\"There's nearby street construction that will impact foot traffic\",\"Rising cost of cheese will increase the cost of pizzas\",\"No immediate local regulatory changes but it's election season\" ]\n",
        "\n",
        "pluginBT = kernel.import_semantic_skill_from_directory(pluginsDirectory, \"BusinessThinking\");\n",
        "\n",
        "my_context = kernel.create_new_context()\n",
        "my_context['input'] = 'makes pizzas'\n",
        "my_context['strengths'] = \", \".join(strengths)\n",
        "my_context['weaknesses'] = \", \".join(weaknesses)\n",
        "my_context['opportunities'] = \", \".join(opportunities)\n",
        "my_context['threats'] = \", \".join(threats)\n",
        "\n",
        "bizstrat_result = await kernel.run_async(pluginBT[\"BasicStrategies\"],input_context=my_context)\n",
        "bizstrat_str = \"## ✨ Business strategy thinking based on SWOT analysis\\n\"+str(bizstrat_result)\n",
        "display(Markdown(bizstrat_str))"
      ],
      "metadata": {
        "id": "ReNLMG8wtgmi"
      },
      "execution_count": null,
      "outputs": []
    }
  ]
}