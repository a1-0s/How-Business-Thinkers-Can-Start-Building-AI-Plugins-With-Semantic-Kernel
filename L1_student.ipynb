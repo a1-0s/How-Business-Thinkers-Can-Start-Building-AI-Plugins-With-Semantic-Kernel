{
  "nbformat": 4,
  "nbformat_minor": 0,
  "metadata": {
    "colab": {
      "provenance": []
    },
    "kernelspec": {
      "name": "python3",
      "display_name": "Python 3"
    },
    "language_info": {
      "name": "python"
    }
  },
  "cells": [
    {
      "cell_type": "markdown",
      "source": [
        "# 🧑‍🍳 L1 - Semantic Kernel is like your AI cooking kitchen"
      ],
      "metadata": {
        "id": "KdaKfdACm2Af"
      }
    },
    {
      "cell_type": "markdown",
      "source": [
        "## 🔥 Get a kernel ready"
      ],
      "metadata": {
        "id": "WmGo0mvam3Mt"
      }
    },
    {
      "cell_type": "code",
      "source": [
        "import semantic_kernel as sk\n",
        "from semantic_kernel.connectors.ai.open_ai import AzureChatCompletion, OpenAIChatCompletion\n",
        "\n",
        "kernel = sk.Kernel()\n",
        "\n",
        "useAzureOpenAI = False\n",
        "\n",
        "if useAzureOpenAI:\n",
        "    deployment, api_key, endpoint = sk.azure_openai_settings_from_dot_env()\n",
        "    kernel.add_text_completion_service(\"azureopenai\", AzureChatCompletion(deployment, endpoint, api_key))\n",
        "else:\n",
        "    api_key, org_id = sk.openai_settings_from_dot_env()\n",
        "    kernel.add_text_completion_service(\"openai\", OpenAIChatCompletion(\"gpt-3.5-turbo-0301\", api_key, org_id))\n",
        "\n",
        "print(\"You made a kernel!\")"
      ],
      "metadata": {
        "id": "cKxHzT8TnABq"
      },
      "execution_count": null,
      "outputs": []
    },
    {
      "cell_type": "code",
      "source": [
        "import semantic_kernel as sk\n",
        "from semantic_kernel.connectors.ai.hugging_face import HuggingFaceTextCompletion\n",
        "\n",
        "kernel = sk.Kernel()\n",
        "\n",
        "kernel.add_text_completion_service(\"huggingface\", HuggingFaceTextCompletion(\"gpt2\", task=\"text-generation\"))\n",
        "\n",
        "print(\"You made an open source kernel using an open source AI model!\")"
      ],
      "metadata": {
        "id": "Y53ZERFdnU9i"
      },
      "execution_count": null,
      "outputs": []
    }
  ]
}